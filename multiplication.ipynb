{
 "cells": [
  {
   "cell_type": "code",
   "execution_count": null,
   "metadata": {},
   "outputs": [],
   "source": [
    "!python3 -m pip install kfp --upgrade --user"
   ]
  },
  {
   "cell_type": "code",
   "execution_count": 159,
   "metadata": {},
   "outputs": [],
   "source": [
    "EXPERIMENT_NAME = 'Simple notebook pipeline'\n",
    "BASE_IMAGE = 'tensorflow/tensorflow:2.0.0b0-py3'"
   ]
  },
  {
   "cell_type": "code",
   "execution_count": 160,
   "metadata": {},
   "outputs": [],
   "source": [
    "import json\n",
    "import numpy as np\n",
    "import kfp\n",
    "import kfp.dsl as dsl\n",
    "from kfp import compiler\n",
    "from kfp import components"
   ]
  },
  {
   "cell_type": "code",
   "execution_count": 205,
   "metadata": {},
   "outputs": [
    {
     "name": "stderr",
     "output_type": "stream",
     "text": [
      "/usr/local/lib/python3.6/dist-packages/ipykernel_launcher.py:4: DeprecationWarning: Call to deprecated function (or staticmethod) python_component. (This decorator does not seem to be used, so we deprecate it. If you need this decorator, please create an issue at https://github.com/kubeflow/pipelines/issues) -- Deprecated since version 0.2.6.\n",
      "  after removing the cwd from sys.path.\n",
      "/usr/local/lib/python3.6/dist-packages/ipykernel_launcher.py:19: DeprecationWarning: Call to deprecated function (or staticmethod) python_component. (This decorator does not seem to be used, so we deprecate it. If you need this decorator, please create an issue at https://github.com/kubeflow/pipelines/issues) -- Deprecated since version 0.2.6.\n",
      "/usr/local/lib/python3.6/dist-packages/ipykernel_launcher.py:32: DeprecationWarning: Call to deprecated function (or staticmethod) python_component. (This decorator does not seem to be used, so we deprecate it. If you need this decorator, please create an issue at https://github.com/kubeflow/pipelines/issues) -- Deprecated since version 0.2.6.\n"
     ]
    }
   ],
   "source": [
    "@dsl.python_component(\n",
    "    name='mult_op',\n",
    "    description='multiplies two matrix',\n",
    "    base_image=BASE_IMAGE\n",
    ")\n",
    "def matrix_mult(matrices: str, x: int, y: int) -> str:\n",
    "    import json\n",
    "    import numpy as np\n",
    "    m = json.loads(matrices)\n",
    "    print(m)\n",
    "    X, Y = np.array(m[x]), np.array(m[y])\n",
    "    Z = X @ Y\n",
    "    print(f\"{X}\\n@\\n{Y}\\n=\\n{Z}\")\n",
    "    return json.dumps(Z.tolist())\n",
    "\n",
    "@dsl.python_component(\n",
    "    name='disassemble_op',\n",
    "    description='disassembles two matrix',\n",
    "    base_image=BASE_IMAGE\n",
    ")\n",
    "def disassemble(X_:str, Y_: str) -> str:\n",
    "    import json\n",
    "    import numpy as np\n",
    "    X, Y = np.array(json.loads(X_)), np.array(json.loads(Y_))\n",
    "    A, B = X[0:(X.shape[0] // 2), : ], X[(X.shape[0] // 2):X.shape[0], : ]\n",
    "    C, D = Y[:, 0:(Y.shape[1] // 2)], Y[:, (Y.shape[1] // 2):Y.shape[1]]\n",
    "    return json.dumps([A.tolist(), B.tolist(), C.tolist(), D.tolist()])\n",
    "\n",
    "@dsl.python_component(\n",
    "    name='assemble_op',\n",
    "    description='assembles results of multiplication',\n",
    "    base_image=BASE_IMAGE\n",
    ")\n",
    "def assemble(A_:str, B_:str, C_:str, D_:str) -> str:\n",
    "    import json\n",
    "    import numpy as np\n",
    "    A, B, C, D = np.array(json.loads(A_)), np.array(json.loads(B_)), np.array(json.loads(C_)), np.array(json.loads(D_))\n",
    "    return json.dumps((np.block([[A, B], [C, D]])).tolist())"
   ]
  },
  {
   "cell_type": "code",
   "execution_count": 206,
   "metadata": {},
   "outputs": [],
   "source": [
    "mult_op = components.func_to_container_op(\n",
    "    matrix_mult, \n",
    "    base_image=BASE_IMAGE\n",
    ")\n",
    "disassemble_op = components.func_to_container_op(\n",
    "    disassemble, \n",
    "    base_image=BASE_IMAGE\n",
    ")\n",
    "assemble_op = components.func_to_container_op(\n",
    "    assemble, \n",
    "    base_image=BASE_IMAGE\n",
    ")"
   ]
  },
  {
   "cell_type": "code",
   "execution_count": 207,
   "metadata": {},
   "outputs": [],
   "source": [
    "@dsl.pipeline(\n",
    "   name='My pipeline',\n",
    "   description='A pipeline for matrix multiplication.'\n",
    ")\n",
    "def calc_pipeline(\n",
    "X, Y\n",
    "):\n",
    "    task1 = disassemble_op(X, Y)\n",
    "    c1 = mult_op(task1.output, 0, 2)\n",
    "    c2 = mult_op(task1.output, 0, 3)\n",
    "    c3 = mult_op(task1.output, 1, 2)\n",
    "    c4 = mult_op(task1.output, 1, 3)\n",
    "    task2 = assemble_op(c1.output, c2.output, c3.output, c4.output)"
   ]
  },
  {
   "cell_type": "code",
   "execution_count": 208,
   "metadata": {},
   "outputs": [],
   "source": [
    "pipeline_func = calc_pipeline\n",
    "pipeline_filename = pipeline_func.__name__ + '.pipeline.zip'\n",
    "compiler.Compiler().compile(pipeline_func, pipeline_filename)"
   ]
  },
  {
   "cell_type": "code",
   "execution_count": 209,
   "metadata": {},
   "outputs": [
    {
     "data": {
      "text/html": [
       "<a href=\"/pipeline/#/experiments/details/43cf71f6-ab89-410b-b925-449b2ab008a6\" target=\"_blank\" >Experiment details</a>."
      ],
      "text/plain": [
       "<IPython.core.display.HTML object>"
      ]
     },
     "metadata": {},
     "output_type": "display_data"
    }
   ],
   "source": [
    "client = kfp.Client()\n",
    "experiment = client.create_experiment(EXPERIMENT_NAME)"
   ]
  },
  {
   "cell_type": "code",
   "execution_count": 210,
   "metadata": {},
   "outputs": [
    {
     "data": {
      "text/html": [
       "<a href=\"/pipeline/#/runs/details/c2017c71-743d-4387-ae11-f6bcc8a88f7c\" target=\"_blank\" >Run details</a>."
      ],
      "text/plain": [
       "<IPython.core.display.HTML object>"
      ]
     },
     "metadata": {},
     "output_type": "display_data"
    }
   ],
   "source": [
    "arguments = {'X': json.dumps([[1,2], [4,5]]), 'Y': json.dumps([[1,0], [0,1]])}\n",
    "\n",
    "run_name = pipeline_func.__name__ + ' run'\n",
    "run_result = client.run_pipeline(experiment.id, run_name, pipeline_filename, arguments)"
   ]
  },
  {
   "cell_type": "code",
   "execution_count": null,
   "metadata": {},
   "outputs": [],
   "source": []
  }
 ],
 "metadata": {
  "kernelspec": {
   "display_name": "Python 3",
   "language": "python",
   "name": "python3"
  },
  "kubeflow_notebook": {
   "autosnapshot": true,
   "docker_image": "gcr.io/arrikto/jupyter-kale-py36@sha256:5c30d30c0459b0d7597293900be0897d5595a819f5a8311765cd928f87835d44",
   "experiment": {
    "id": "",
    "name": ""
   },
   "experiment_name": "",
   "katib_metadata": {
    "algorithm": {
     "algorithmName": "grid"
    },
    "maxFailedTrialCount": 3,
    "maxTrialCount": 12,
    "objective": {
     "objectiveMetricName": "",
     "type": "minimize"
    },
    "parallelTrialCount": 3,
    "parameters": []
   },
   "katib_run": false,
   "pipeline_description": "",
   "pipeline_name": "",
   "snapshot_volumes": true,
   "steps_defaults": [
    "label:access-ml-pipeline:true",
    "label:access-rok:true"
   ],
   "volume_access_mode": "rwm",
   "volumes": [
    {
     "annotations": [],
     "mount_point": "/home/jovyan",
     "name": "workspace-my-pipeline-jgh8kjjrz",
     "size": 5,
     "size_type": "Gi",
     "snapshot": false,
     "type": "clone"
    }
   ]
  },
  "language_info": {
   "codemirror_mode": {
    "name": "ipython",
    "version": 3
   },
   "file_extension": ".py",
   "mimetype": "text/x-python",
   "name": "python",
   "nbconvert_exporter": "python",
   "pygments_lexer": "ipython3",
   "version": "3.6.9"
  }
 },
 "nbformat": 4,
 "nbformat_minor": 4
}
